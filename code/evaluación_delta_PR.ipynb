{
 "cells": [
  {
   "cell_type": "code",
   "execution_count": 6,
   "id": "f8bd85b0-37db-422d-b8da-3e9331dec752",
   "metadata": {},
   "outputs": [
    {
     "name": "stdout",
     "output_type": "stream",
     "text": [
      "📊 Comparación ΔP / ΔR con YAKE:\n",
      "🔹 Mistral vs YAKE: ΔP = 0.1918, ΔR = -0.4399, ΔP/ΔR = -0.4360\n",
      "🔹 LLaMA vs YAKE:   ΔP = 0.0694, ΔR = -0.3825, ΔP/ΔR = -0.1815\n",
      "\n",
      "✅ Reporte guardado en: delta_precision_recall_global_report_ONE.csv\n"
     ]
    }
   ],
   "source": [
    "import pandas as pd\n",
    "\n",
    "# Rutas a los resultados globales\n",
    "ruta_yake = 'evaluacion_anotaciones_global_yake.csv'\n",
    "ruta_mistral = 'evaluacion_anotaciones_global_mistral_one.csv'\n",
    "ruta_llama = 'evaluacion_anotaciones_global_llama_one.csv'\n",
    "\n",
    "# Cargar resultados\n",
    "df_yake = pd.read_csv(ruta_yake)\n",
    "df_mistral = pd.read_csv(ruta_mistral)\n",
    "df_llama = pd.read_csv(ruta_llama)\n",
    "\n",
    "# Extraer precisión y recall\n",
    "P_yake = df_yake['Precision'].values[0]\n",
    "R_yake = df_yake['Recall'].values[0]\n",
    "\n",
    "P_mistral = df_mistral['Precision'].values[0]\n",
    "R_mistral = df_mistral['Recall'].values[0]\n",
    "\n",
    "P_llama = df_llama['Precision'].values[0]\n",
    "R_llama = df_llama['Recall'].values[0]\n",
    "\n",
    "# Cálculo de deltas\n",
    "delta_P_mistral = P_mistral - P_yake\n",
    "delta_R_mistral = R_mistral - R_yake\n",
    "delta_PR_mistral = delta_P_mistral / delta_R_mistral if delta_R_mistral != 0 else float('inf')\n",
    "\n",
    "delta_P_llama = P_llama - P_yake\n",
    "delta_R_llama = R_llama - R_yake\n",
    "delta_PR_llama = delta_P_llama / delta_R_llama if delta_R_llama != 0 else float('inf')\n",
    "\n",
    "# Mostrar resultados\n",
    "print(\"📊 Comparación ΔP / ΔR con YAKE:\")\n",
    "print(f\"🔹 Mistral vs YAKE: ΔP = {delta_P_mistral:.4f}, ΔR = {delta_R_mistral:.4f}, ΔP/ΔR = {delta_PR_mistral:.4f}\")\n",
    "print(f\"🔹 LLaMA vs YAKE:   ΔP = {delta_P_llama:.4f}, ΔR = {delta_R_llama:.4f}, ΔP/ΔR = {delta_PR_llama:.4f}\")\n",
    "\n",
    "# Guardar en CSV (opcional)\n",
    "df_result = pd.DataFrame([{\n",
    "    'Modelo_comparado': 'Mistral',\n",
    "    'ΔP': delta_P_mistral,\n",
    "    'ΔR': delta_R_mistral,\n",
    "    'ΔP/ΔR': delta_PR_mistral\n",
    "}, {\n",
    "    'Modelo_comparado': 'LLAMA',\n",
    "    'ΔP': delta_P_llama,\n",
    "    'ΔR': delta_R_llama,\n",
    "    'ΔP/ΔR': delta_PR_llama\n",
    "}])\n",
    "\n",
    "output_path = 'delta_precision_recall_global_report_ONE.csv'\n",
    "df_result.to_csv(output_path, index=False, encoding='utf-8')\n",
    "print(f\"\\n✅ Reporte guardado en: {output_path}\")\n"
   ]
  },
  {
   "cell_type": "code",
   "execution_count": null,
   "id": "a29d7de6-e355-4b31-9125-3acf718993ee",
   "metadata": {},
   "outputs": [],
   "source": []
  }
 ],
 "metadata": {
  "kernelspec": {
   "display_name": "Python 3 (ipykernel)",
   "language": "python",
   "name": "python3"
  },
  "language_info": {
   "codemirror_mode": {
    "name": "ipython",
    "version": 3
   },
   "file_extension": ".py",
   "mimetype": "text/x-python",
   "name": "python",
   "nbconvert_exporter": "python",
   "pygments_lexer": "ipython3",
   "version": "3.10.6"
  }
 },
 "nbformat": 4,
 "nbformat_minor": 5
}
